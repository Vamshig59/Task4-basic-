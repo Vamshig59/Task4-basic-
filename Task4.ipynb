{
  "nbformat": 4,
  "nbformat_minor": 0,
  "metadata": {
    "colab": {
      "provenance": []
    },
    "kernelspec": {
      "name": "python3",
      "display_name": "Python 3"
    },
    "language_info": {
      "name": "python"
    }
  },
  "cells": [
    {
      "cell_type": "code",
      "execution_count": null,
      "metadata": {
        "id": "vqPix5s_fgEp"
      },
      "outputs": [],
      "source": []
    },
    {
      "cell_type": "markdown",
      "source": [
        "# Q1) String Split and Join"
      ],
      "metadata": {
        "id": "R9St5LE0fkaF"
      }
    },
    {
      "cell_type": "code",
      "source": [
        "import re\n",
        "def split_and_join(line):\n",
        "    # write your code here\n",
        "    \n",
        "        \n",
        "    line = re.sub(r\"[^\\w\\s]\", '', line)\n",
        "    line = re.sub(r\"\\s+\", '-', line)\n",
        "    return line\n",
        "if __name__ == '__main__':"
      ],
      "metadata": {
        "id": "hOLn4VMSgdHz"
      },
      "execution_count": null,
      "outputs": []
    },
    {
      "cell_type": "markdown",
      "source": [
        "# Q2) What's Your Name?"
      ],
      "metadata": {
        "id": "edrCqKNbgiUc"
      }
    },
    {
      "cell_type": "code",
      "source": [
        "def print_full_name(first, last):\n",
        "    # Write your code here\n",
        "    salute = \"Hello %s %s! You just delved into python.\"\n",
        "    print(salute % (first, last))\n",
        "if __name__ == '__main__':"
      ],
      "metadata": {
        "id": "ti4Mkr1VguSW"
      },
      "execution_count": null,
      "outputs": []
    },
    {
      "cell_type": "markdown",
      "source": [
        "# Q3) Mutations"
      ],
      "metadata": {
        "id": "3XO3iejpgyCf"
      }
    },
    {
      "cell_type": "code",
      "source": [
        "def mutate_string(string, position, character):\n",
        "    str_n=\"\"\n",
        "    for key,val in enumerate(string):\n",
        "        if key==position:\n",
        "            str_n+=character\n",
        "        else:\n",
        "            str_n+=val\n",
        "    return str_n\n",
        "\n",
        "if __name__ == '__main__':\n",
        "    s = input()\n",
        "    i, c = input().split()\n",
        "    s_new = mutate_string(s, int(i), c)\n",
        "    print(s_new)"
      ],
      "metadata": {
        "id": "GWOShLCphUQo"
      },
      "execution_count": null,
      "outputs": []
    },
    {
      "cell_type": "markdown",
      "source": [
        "# Q4) Find a string"
      ],
      "metadata": {
        "id": "uRoMhm0DhYNG"
      }
    },
    {
      "cell_type": "code",
      "source": [
        "def count_substring(string, sub_string):\n",
        "    n = 0\n",
        "    for i in range(len(string)):\n",
        "        if string[i: i+len(sub_string)] == sub_string:\n",
        "            n+= 1\n",
        "    return n\n",
        "if __name__ == '__main__':\n",
        "    string = input().strip()\n",
        "    sub_string = input().strip()\n",
        "    \n",
        "    count = count_substring(string, sub_string)\n",
        "    print(count)"
      ],
      "metadata": {
        "id": "MhI-BmxaiXT8"
      },
      "execution_count": null,
      "outputs": []
    },
    {
      "cell_type": "markdown",
      "source": [
        "# Q5)String Validators"
      ],
      "metadata": {
        "id": "VRgEZcYSiac1"
      }
    },
    {
      "cell_type": "code",
      "source": [
        "import re\n",
        "if __name__ == '__main__':\n",
        "    txt = input()\n",
        "    print(True if (re.findall(\"[0-9a-zA-Z]\", txt)) else False)\n",
        "    print(True if (re.findall(\"[a-zA-Z]\", txt)) else False)\n",
        "    print(True if (re.findall(\"[0-9]\", txt)) else False)\n",
        "    print(True if (re.findall(\"[a-z]\", txt)) else False)\n",
        "    print(True if (re.findall(\"[A-Z]\", txt)) else False)"
      ],
      "metadata": {
        "id": "t_HSm4wGiibT"
      },
      "execution_count": null,
      "outputs": []
    },
    {
      "cell_type": "markdown",
      "source": [
        "# Q6) Text Alignment"
      ],
      "metadata": {
        "id": "0ioRjA4KitUB"
      }
    },
    {
      "cell_type": "code",
      "source": [
        "if __name__ == '__main__':\n",
        "    n = int(input())\n",
        "    s = ''\n",
        "    \n",
        "# Top cone\n",
        "\n",
        "for i in range(1,n*2,2):\n",
        "    s = s + (i * 'H').center(n * 2 - 1 , \" \") + '\\n'\n",
        "    \n",
        "# Top Square\n",
        "\n",
        "s1 = (n * 'H').center(n * 2 - 1 , \" \") + (n * 2 + 1) * \" \"\n",
        "\n",
        "for i in range(n + 1):\n",
        "    s = s + (2 * s1) + '\\n'\n",
        "\n",
        "# Middle line\n",
        "\n",
        "s2 = (n * 5 * 'H').center(n * 6 - 1 , \" \")\n",
        "\n",
        "for i in range(0 , n , 2):\n",
        "    s = s + s2 + '\\n'\n",
        "\n",
        "# Bottom square\n",
        "\n",
        "s3 = (n * 'H').center(n * 2 - 1 , \" \") + (n * 2 + 1) * \" \"\n",
        "\n",
        "for i in range(n + 1):\n",
        "    s = s + (2 * s3) + '\\n'\n",
        "\n",
        "# Bottom cone\n",
        "\n",
        "for i in range(n * 2 - 1 , 0 , -2):\n",
        "    s = s + (n * 4) * ' ' + (i * 'H').center(n * 2 - 1) + '\\n'\n",
        "\n",
        "print(s)"
      ],
      "metadata": {
        "id": "1dtvJgDyizzI"
      },
      "execution_count": null,
      "outputs": []
    },
    {
      "cell_type": "markdown",
      "source": [
        "# Q7) Text Wrap"
      ],
      "metadata": {
        "id": "CFdoi45wi9uS"
      }
    },
    {
      "cell_type": "code",
      "source": [
        "import textwrap\n",
        "def wrap(string, max_width):\n",
        "    return textwrap.fill(string,max_width)\n",
        "    return\n",
        "\n",
        "if __name__ == '__main__':"
      ],
      "metadata": {
        "id": "AaFFNW-FjEoN"
      },
      "execution_count": null,
      "outputs": []
    },
    {
      "cell_type": "markdown",
      "source": [
        "# Q8) Designer Door Mat"
      ],
      "metadata": {
        "id": "yc8URH2pjbLX"
      }
    },
    {
      "cell_type": "code",
      "source": [
        "n,m = map(int,input().split())\n",
        "\n",
        "if n % 2 != 0 and n >= 1:\n",
        "    m = n * 3\n",
        "    for i in range(0,int(n / 2)):\n",
        "        pattern = '.|.' * ((i * 2) + 1)\n",
        "        print(pattern.center(m,'-'))\n",
        "    print('WELCOME'.center(m,'-'))\n",
        "\n",
        "    for j in range(int(n /2 ), 0, -1):\n",
        "        pattern = '.|.' * ((j * 2) - 1)\n",
        "        print(pattern.center(m,'-'))"
      ],
      "metadata": {
        "id": "HHIcUYp0jjXf"
      },
      "execution_count": null,
      "outputs": []
    },
    {
      "cell_type": "markdown",
      "source": [
        "# Q9)String Formatting"
      ],
      "metadata": {
        "id": "Zcn3-_ZAjrmy"
      }
    },
    {
      "cell_type": "code",
      "source": [
        "def print_formatted(number):\n",
        "    # your code goes here\n",
        "    width = len(format(number, 'b'))\n",
        "    \n",
        "    for i in range(1, number + 1, 1):\n",
        "        dec = str(i).rjust(width,' ')\n",
        "        oct = format(i, \"o\").rjust(width, ' ')\n",
        "        hex = format(i, \"X\").rjust(width, ' ')\n",
        "        bin = format(i, 'b').rjust(width, ' ')\n",
        "        \n",
        "        print(f\"{dec} {oct} {hex} {bin}\")\n",
        "if __name__ == '__main__':"
      ],
      "metadata": {
        "id": "vLTJtH0yj9xI"
      },
      "execution_count": null,
      "outputs": []
    },
    {
      "cell_type": "markdown",
      "source": [
        "# Q10) Capitalize!"
      ],
      "metadata": {
        "id": "-Y0iiRxJkAy3"
      }
    },
    {
      "cell_type": "code",
      "source": [
        "def solve(s):\n",
        "    c= \"\"\n",
        "    for i in range(0,len(s)):\n",
        "        if i == 0:\n",
        "            c = c + (s[i].upper())\n",
        "        elif s[i-1] == \" \":\n",
        "            c = c + (s[i].upper())\n",
        "        else:\n",
        "            c = c + s[i]\n",
        "    return c\n",
        "# Complete the solve function below.\n",
        "\n",
        "if __name__ == '__main__':"
      ],
      "metadata": {
        "id": "3qVV5uDFkJYm"
      },
      "execution_count": null,
      "outputs": []
    },
    {
      "cell_type": "markdown",
      "source": [
        "# Q11) The Minion Game"
      ],
      "metadata": {
        "id": "j89SEThpkYmv"
      }
    },
    {
      "cell_type": "code",
      "source": [
        "def minion_game(string):\n",
        "    kevin, stuart = 0, 0\n",
        "    vowels = 'AEIOU'\n",
        "    n = len(string)\n",
        "    for i, c in enumerate(string):\n",
        "        if vowels.find(c) != -1:\n",
        "            kevin += n - i\n",
        "        else:\n",
        "            stuart += n - i\n",
        "    if kevin - stuart != 0:\n",
        "        print(f'Kevin {kevin}' if kevin > stuart else f'Stuart {stuart}')\n",
        "    else:\n",
        "        print('Draw')\n",
        "if __name__ == '__main__':"
      ],
      "metadata": {
        "id": "WA6iHb6Hkfst"
      },
      "execution_count": null,
      "outputs": []
    },
    {
      "cell_type": "markdown",
      "source": [
        "# Q12) Merge the Tools!"
      ],
      "metadata": {
        "id": "ktHVKa5OljGD"
      }
    },
    {
      "cell_type": "code",
      "source": [
        "def merge_the_tools(string, k):\n",
        "    from textwrap import wrap\n",
        "    ls = wrap(string, k)\n",
        "    for x in ls:\n",
        "        result = x[0]\n",
        "        for i in range(1,k): # k = len(x)\n",
        "            if x[i] not in result:\n",
        "                result += x[i]\n",
        "            else: \n",
        "                continue\n",
        "        print(result)\n",
        "if __name__ == '__main__':\n",
        "    string, k = input(), int(input())\n",
        "    merge_the_tools(string, k)"
      ],
      "metadata": {
        "id": "PKwhHDtfmNaR"
      },
      "execution_count": null,
      "outputs": []
    },
    {
      "cell_type": "markdown",
      "source": [
        "# Q13) Alphabet Rangoli"
      ],
      "metadata": {
        "id": "rXoX8EHNmS7x"
      }
    },
    {
      "cell_type": "code",
      "source": [
        "import string\n",
        "\n",
        "def print_rangoli(size):\n",
        "    letters = string.ascii_lowercase[:size]\n",
        "    width = 4 * size - 3\n",
        "    \n",
        "    for i in range(size-1,0,-1):\n",
        "        line = '-'.join(letters[size - 1: i: -1] + letters[i: size])\n",
        "        print(line.center(width, '-'))\n",
        "    for i in range(size):\n",
        "        line = '-'.join(letters[size - 1: i: -1] + letters[i: size])\n",
        "        print(line.center(width, '-'))\n",
        "\n",
        "\n",
        "if __name__ == '__main__':"
      ],
      "metadata": {
        "id": "-SWePfKgm5M4"
      },
      "execution_count": null,
      "outputs": []
    }
  ]
}